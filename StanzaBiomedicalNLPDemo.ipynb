{
 "cells": [
  {
   "cell_type": "code",
   "execution_count": 1,
   "metadata": {},
   "outputs": [],
   "source": [
    "import stanza"
   ]
  },
  {
   "cell_type": "code",
   "execution_count": 2,
   "metadata": {},
   "outputs": [
    {
     "name": "stderr",
     "output_type": "stream",
     "text": [
      "Downloading https://raw.githubusercontent.com/stanfordnlp/stanza-resources/master/resources_1.2.0.json: 128kB [00:00, 36.1MB/s]\n",
      "2021-04-08 10:56:59 INFO: Downloading these customized packages for language: en (English)...\n",
      "=======================\n",
      "| Processor | Package |\n",
      "-----------------------\n",
      "| tokenize  | craft   |\n",
      "| pos       | craft   |\n",
      "| lemma     | craft   |\n",
      "| depparse  | craft   |\n",
      "| pretrain  | craft   |\n",
      "=======================\n",
      "\n",
      "Downloading http://nlp.stanford.edu/software/stanza/1.2.0/en/tokenize/craft.pt: 100%|█| \n",
      "Downloading http://nlp.stanford.edu/software/stanza/1.2.0/en/pos/craft.pt: 100%|█| 21.6M\n",
      "Downloading http://nlp.stanford.edu/software/stanza/1.2.0/en/lemma/craft.pt: 100%|█| 4.5\n",
      "Downloading http://nlp.stanford.edu/software/stanza/1.2.0/en/depparse/craft.pt: 100%|█| \n",
      "Downloading http://nlp.stanford.edu/software/stanza/1.2.0/en/pretrain/craft.pt: 100%|█| \n",
      "2021-04-08 11:01:56 INFO: Finished downloading models and saved to C:\\Users\\Rithesh S\\stanza_resources.\n",
      "2021-04-08 11:01:56 INFO: Loading these models for language: en (English):\n",
      "=======================\n",
      "| Processor | Package |\n",
      "-----------------------\n",
      "| tokenize  | craft   |\n",
      "| pos       | craft   |\n",
      "| lemma     | craft   |\n",
      "| depparse  | craft   |\n",
      "=======================\n",
      "\n",
      "2021-04-08 11:01:56 INFO: Use device: cpu\n",
      "2021-04-08 11:01:56 INFO: Loading: tokenize\n",
      "2021-04-08 11:01:56 INFO: Loading: pos\n",
      "2021-04-08 11:01:56 INFO: Loading: lemma\n",
      "2021-04-08 11:01:57 INFO: Loading: depparse\n",
      "2021-04-08 11:01:57 INFO: Done loading processors!\n"
     ]
    }
   ],
   "source": [
    "# download and initialize the CRAFT pipeline\n",
    "stanza.download('en', package='craft')\n",
    "nlp = stanza.Pipeline('en', package='craft')"
   ]
  },
  {
   "cell_type": "code",
   "execution_count": 3,
   "metadata": {},
   "outputs": [],
   "source": [
    "# annotate example text\n",
    "doc = nlp('A single-cell transcriptomic atlas characterizes ageing tissues in the mouse.')"
   ]
  },
  {
   "cell_type": "code",
   "execution_count": 4,
   "metadata": {},
   "outputs": [
    {
     "name": "stdout",
     "output_type": "stream",
     "text": [
      "('A', 6, 'det')\n",
      "('single', 4, 'amod')\n",
      "('-', 4, 'punct')\n",
      "('cell', 6, 'compound')\n",
      "('transcriptomic', 6, 'amod')\n",
      "('atlas', 7, 'nsubj')\n",
      "('characterizes', 0, 'root')\n",
      "('ageing', 9, 'compound')\n",
      "('tissues', 7, 'obj')\n",
      "('in', 12, 'case')\n",
      "('the', 12, 'det')\n",
      "('mouse', 7, 'obl')\n",
      "('.', 7, 'punct')\n"
     ]
    }
   ],
   "source": [
    "# print out dependency tree\n",
    "doc.sentences[0].print_dependencies()"
   ]
  },
  {
   "cell_type": "code",
   "execution_count": 5,
   "metadata": {},
   "outputs": [
    {
     "name": "stderr",
     "output_type": "stream",
     "text": [
      "Downloading https://raw.githubusercontent.com/stanfordnlp/stanza-resources/master/resources_1.2.0.json: 128kB [00:00, ?B/s]\n",
      "2021-04-08 11:01:57 INFO: Downloading these customized packages for language: en (English)...\n",
      "=============================\n",
      "| Processor       | Package |\n",
      "-----------------------------\n",
      "| tokenize        | mimic   |\n",
      "| pos             | mimic   |\n",
      "| lemma           | mimic   |\n",
      "| depparse        | mimic   |\n",
      "| ner             | i2b2    |\n",
      "| pretrain        | mimic   |\n",
      "| forward_charlm  | mimic   |\n",
      "| backward_charlm | mimic   |\n",
      "=============================\n",
      "\n",
      "Downloading http://nlp.stanford.edu/software/stanza/1.2.0/en/tokenize/mimic.pt: 100%|█| \n",
      "Downloading http://nlp.stanford.edu/software/stanza/1.2.0/en/pos/mimic.pt: 100%|█| 20.8M\n",
      "Downloading http://nlp.stanford.edu/software/stanza/1.2.0/en/lemma/mimic.pt: 100%|█| 4.1\n",
      "Downloading http://nlp.stanford.edu/software/stanza/1.2.0/en/depparse/mimic.pt: 100%|█| \n",
      "Downloading http://nlp.stanford.edu/software/stanza/1.2.0/en/ner/i2b2.pt: 100%|█| 123M/1\n",
      "Downloading http://nlp.stanford.edu/software/stanza/1.2.0/en/pretrain/mimic.pt: 100%|█| \n",
      "Downloading http://nlp.stanford.edu/software/stanza/1.2.0/en/forward_charlm/mimic.pt: 10\n",
      "Downloading http://nlp.stanford.edu/software/stanza/1.2.0/en/backward_charlm/mimic.pt: 1\n",
      "2021-04-08 11:10:22 INFO: Finished downloading models and saved to C:\\Users\\Rithesh S\\stanza_resources.\n",
      "2021-04-08 11:10:22 INFO: Loading these models for language: en (English):\n",
      "=======================\n",
      "| Processor | Package |\n",
      "-----------------------\n",
      "| tokenize  | mimic   |\n",
      "| pos       | mimic   |\n",
      "| lemma     | mimic   |\n",
      "| depparse  | mimic   |\n",
      "| ner       | i2b2    |\n",
      "=======================\n",
      "\n",
      "2021-04-08 11:10:22 INFO: Use device: cpu\n",
      "2021-04-08 11:10:22 INFO: Loading: tokenize\n",
      "2021-04-08 11:10:22 INFO: Loading: pos\n",
      "2021-04-08 11:10:23 INFO: Loading: lemma\n",
      "2021-04-08 11:10:23 INFO: Loading: depparse\n",
      "2021-04-08 11:10:23 INFO: Loading: ner\n",
      "2021-04-08 11:10:24 INFO: Done loading processors!\n"
     ]
    },
    {
     "name": "stdout",
     "output_type": "stream",
     "text": [
      "a sore throat\tPROBLEM\n",
      "Cepacol lozenges\tTREATMENT\n"
     ]
    }
   ],
   "source": [
    "# download and initialize a mimic pipeline with an i2b2 NER model\n",
    "stanza.download('en', package='mimic', processors={'ner': 'i2b2'})\n",
    "nlp = stanza.Pipeline('en', package='mimic', processors={'ner': 'i2b2'})\n",
    "# annotate clinical text\n",
    "doc = nlp('The patient had a sore throat and was treated with Cepacol lozenges.')\n",
    "# print out all entities\n",
    "for ent in doc.entities:\n",
    "    print(f'{ent.text}\\t{ent.type}')"
   ]
  },
  {
   "cell_type": "code",
   "execution_count": 7,
   "metadata": {},
   "outputs": [
    {
     "name": "stdout",
     "output_type": "stream",
     "text": [
      "Selegiline\tTREATMENT\n",
      "postural hypotension\tPROBLEM\n",
      "Parkinson ' s disease\tPROBLEM\n",
      "a longitudinal study\tTEST\n",
      "drug withdrawal\tPROBLEM\n",
      "this study\tTEST\n",
      "selegiline\tTREATMENT\n",
      "orthostatic hypotension\tPROBLEM\n"
     ]
    }
   ],
   "source": [
    "doc = nlp(\"Selegiline - induced postural hypotension in Parkinson ' s disease : a longitudinal study on the effects of drug withdrawal.The aims of this study were to confirm our previous findings in a separate cohort of patients and to determine the time course of the cardiovascular consequences of stopping selegiline in the expectation that this might shed light on the mechanisms by which the drug causes orthostatic hypotension\")\n",
    "# print out all entities\n",
    "for ent in doc.entities:\n",
    "    print(f'{ent.text}\\t{ent.type}')"
   ]
  },
  {
   "cell_type": "code",
   "execution_count": 23,
   "metadata": {},
   "outputs": [
    {
     "name": "stderr",
     "output_type": "stream",
     "text": [
      "Downloading https://raw.githubusercontent.com/stanfordnlp/stanza-resources/master/resources_1.2.0.json: 128kB [00:00, ?B/s]\n",
      "2021-04-08 12:18:37 INFO: Downloading these customized packages for language: en (English)...\n",
      "=============================\n",
      "| Processor       | Package |\n",
      "-----------------------------\n",
      "| tokenize        | mimic   |\n",
      "| pos             | mimic   |\n",
      "| lemma           | mimic   |\n",
      "| depparse        | mimic   |\n",
      "| ner             | anatem  |\n",
      "| backward_charlm | pubmed  |\n",
      "| pretrain        | mimic   |\n",
      "| forward_charlm  | pubmed  |\n",
      "=============================\n",
      "\n",
      "2021-04-08 12:18:37 INFO: File exists: C:\\Users\\Rithesh S\\stanza_resources\\en\\tokenize\\mimic.pt.\n",
      "2021-04-08 12:18:37 INFO: File exists: C:\\Users\\Rithesh S\\stanza_resources\\en\\pos\\mimic.pt.\n",
      "2021-04-08 12:18:37 INFO: File exists: C:\\Users\\Rithesh S\\stanza_resources\\en\\lemma\\mimic.pt.\n",
      "2021-04-08 12:18:37 INFO: File exists: C:\\Users\\Rithesh S\\stanza_resources\\en\\depparse\\mimic.pt.\n",
      "2021-04-08 12:18:37 INFO: File exists: C:\\Users\\Rithesh S\\stanza_resources\\en\\ner\\anatem.pt.\n",
      "2021-04-08 12:18:37 INFO: File exists: C:\\Users\\Rithesh S\\stanza_resources\\en\\backward_charlm\\pubmed.pt.\n",
      "2021-04-08 12:18:38 INFO: File exists: C:\\Users\\Rithesh S\\stanza_resources\\en\\pretrain\\mimic.pt.\n",
      "2021-04-08 12:18:38 INFO: File exists: C:\\Users\\Rithesh S\\stanza_resources\\en\\forward_charlm\\pubmed.pt.\n",
      "2021-04-08 12:18:38 INFO: Finished downloading models and saved to C:\\Users\\Rithesh S\\stanza_resources.\n",
      "2021-04-08 12:18:38 INFO: Loading these models for language: en (English):\n",
      "=======================\n",
      "| Processor | Package |\n",
      "-----------------------\n",
      "| tokenize  | mimic   |\n",
      "| pos       | mimic   |\n",
      "| lemma     | mimic   |\n",
      "| depparse  | mimic   |\n",
      "| ner       | anatem  |\n",
      "=======================\n",
      "\n",
      "2021-04-08 12:18:38 INFO: Use device: cpu\n",
      "2021-04-08 12:18:38 INFO: Loading: tokenize\n",
      "2021-04-08 12:18:38 INFO: Loading: pos\n",
      "2021-04-08 12:18:38 INFO: Loading: lemma\n",
      "2021-04-08 12:18:38 INFO: Loading: depparse\n",
      "2021-04-08 12:18:38 INFO: Loading: ner\n",
      "2021-04-08 12:18:39 INFO: Done loading processors!\n"
     ]
    }
   ],
   "source": [
    "stanza.download('en', package='mimic', processors={'ner': 'anatem'})\n",
    "nlp = stanza.Pipeline('en', package='mimic', processors={'ner': 'anatem'})\n",
    "# annotate clinical text\n",
    "\n"
   ]
  },
  {
   "cell_type": "code",
   "execution_count": 24,
   "metadata": {},
   "outputs": [
    {
     "name": "stdout",
     "output_type": "stream",
     "text": [
      "cardiovascular\tANATOMY\n"
     ]
    }
   ],
   "source": [
    "doc = nlp(\"Selegiline - induced postural hypotension in Parkinson ' s disease : a longitudinal study on the effects of drug withdrawal.The aims of this study were to confirm our previous findings in a separate cohort of patients and to determine the time course of the cardiovascular consequences of stopping selegiline in the expectation that this might shed light on the mechanisms by which the drug causes orthostatic hypotension\")\n",
    "# print out all entities\n",
    "for ent in doc.entities:\n",
    "    print(f'{ent.text}\\t{ent.type}')"
   ]
  },
  {
   "cell_type": "code",
   "execution_count": 25,
   "metadata": {},
   "outputs": [
    {
     "name": "stdout",
     "output_type": "stream",
     "text": [
      "neurologic\tANATOMY\n",
      "left eye\tANATOMY\n",
      "right eye\tANATOMY\n",
      "limb\tANATOMY\n",
      "body\tANATOMY\n",
      "urinary\tANATOMY\n"
     ]
    }
   ],
   "source": [
    "doc = nlp(\"A 22-year-old man presented with progressive neurologic decline. A year before presentation, painless vision loss had occurred in the left eye, followed by the right eye. During the next 4 to 6 months, diffuse numbness, limb stiffness, whole-body weakness, and urinary incontinence had developed.\")\n",
    "# print out all entities\n",
    "for ent in doc.entities:\n",
    "    print(f'{ent.text}\\t{ent.type}')"
   ]
  },
  {
   "cell_type": "code",
   "execution_count": 26,
   "metadata": {},
   "outputs": [
    {
     "name": "stderr",
     "output_type": "stream",
     "text": [
      "2021-04-08 12:19:46 INFO: Loading these models for language: en (English):\n",
      "=======================\n",
      "| Processor | Package |\n",
      "-----------------------\n",
      "| tokenize  | mimic   |\n",
      "| pos       | mimic   |\n",
      "| lemma     | mimic   |\n",
      "| depparse  | mimic   |\n",
      "| ner       | i2b2    |\n",
      "=======================\n",
      "\n",
      "2021-04-08 12:19:46 INFO: Use device: cpu\n",
      "2021-04-08 12:19:46 INFO: Loading: tokenize\n",
      "2021-04-08 12:19:46 INFO: Loading: pos\n",
      "2021-04-08 12:19:46 INFO: Loading: lemma\n",
      "2021-04-08 12:19:46 INFO: Loading: depparse\n",
      "2021-04-08 12:19:47 INFO: Loading: ner\n",
      "2021-04-08 12:19:47 INFO: Done loading processors!\n"
     ]
    },
    {
     "name": "stdout",
     "output_type": "stream",
     "text": [
      "progressive neurologic decline\tPROBLEM\n",
      "painless vision loss\tPROBLEM\n",
      "diffuse numbness\tPROBLEM\n",
      "limb stiffness\tPROBLEM\n",
      "whole-body weakness\tPROBLEM\n",
      "urinary incontinence\tPROBLEM\n"
     ]
    }
   ],
   "source": [
    "\n",
    "nlp = stanza.Pipeline('en', package='mimic', processors={'ner':'i2b2'})\n",
    "doc = nlp(\"A 22-year-old man presented with progressive neurologic decline. A year before presentation, painless vision loss had occurred in the left eye, followed by the right eye. During the next 4 to 6 months, diffuse numbness, limb stiffness, whole-body weakness, and urinary incontinence had developed.\")\n",
    "# print out all entities\n",
    "for ent in doc.entities:\n",
    "    print(f'{ent.text}\\t{ent.type}')"
   ]
  },
  {
   "cell_type": "code",
   "execution_count": 30,
   "metadata": {},
   "outputs": [
    {
     "name": "stderr",
     "output_type": "stream",
     "text": [
      "2021-04-08 12:21:42 INFO: Loading these models for language: en (English):\n",
      "=======================\n",
      "| Processor | Package |\n",
      "-----------------------\n",
      "| tokenize  | mimic   |\n",
      "| pos       | mimic   |\n",
      "| lemma     | mimic   |\n",
      "| depparse  | mimic   |\n",
      "| ner       | anatem  |\n",
      "=======================\n",
      "\n",
      "2021-04-08 12:21:42 INFO: Use device: cpu\n",
      "2021-04-08 12:21:42 INFO: Loading: tokenize\n",
      "2021-04-08 12:21:42 INFO: Loading: pos\n",
      "2021-04-08 12:21:42 INFO: Loading: lemma\n",
      "2021-04-08 12:21:42 INFO: Loading: depparse\n",
      "2021-04-08 12:21:43 INFO: Loading: ner\n",
      "2021-04-08 12:21:43 INFO: Done loading processors!\n"
     ]
    },
    {
     "name": "stdout",
     "output_type": "stream",
     "text": [
      "urinary\tANATOMY\n"
     ]
    }
   ],
   "source": [
    "\n",
    "nlp = stanza.Pipeline('en', package='mimic', processors={'ner':'anatem'})\n",
    "doc = nlp(\"A 70-year-old man with bipolar disorder was evaluated because of depressed mood, suicidal ideation, and gait disturbance. One month earlier, he had been voluntarily hospitalized for depression. In the following weeks, he had worsening gait instability and urinary incontinence. Diagnostic tests were performed.\")\n",
    "# print out all entities\n",
    "for ent in doc.entities:\n",
    "    print(f'{ent.text}\\t{ent.type}')"
   ]
  },
  {
   "cell_type": "code",
   "execution_count": 15,
   "metadata": {},
   "outputs": [
    {
     "name": "stderr",
     "output_type": "stream",
     "text": [
      "2021-04-08 12:11:14 INFO: Loading these models for language: en (English):\n",
      "=======================\n",
      "| Processor | Package |\n",
      "-----------------------\n",
      "| tokenize  | mimic   |\n",
      "| pos       | mimic   |\n",
      "| lemma     | mimic   |\n",
      "| depparse  | mimic   |\n",
      "| ner       | i2b2    |\n",
      "=======================\n",
      "\n",
      "2021-04-08 12:11:14 INFO: Use device: cpu\n",
      "2021-04-08 12:11:14 INFO: Loading: tokenize\n",
      "2021-04-08 12:11:14 INFO: Loading: pos\n",
      "2021-04-08 12:11:14 INFO: Loading: lemma\n",
      "2021-04-08 12:11:14 INFO: Loading: depparse\n",
      "2021-04-08 12:11:14 INFO: Loading: ner\n",
      "2021-04-08 12:11:15 INFO: Done loading processors!\n"
     ]
    },
    {
     "name": "stdout",
     "output_type": "stream",
     "text": [
      "bipolar disorder\tPROBLEM\n",
      "depressed mood\tPROBLEM\n",
      "suicidal ideation\tPROBLEM\n",
      "gait disturbance\tPROBLEM\n",
      "depression\tPROBLEM\n",
      "worsening gait instability\tPROBLEM\n",
      "urinary incontinence\tPROBLEM\n",
      "Diagnostic tests\tTEST\n"
     ]
    }
   ],
   "source": [
    "\n",
    "nlp = stanza.Pipeline('en', package='mimic', processors={'ner':'i2b2'})\n",
    "doc = nlp(\"A 70-year-old man with bipolar disorder was evaluated because of depressed mood, suicidal ideation, and gait disturbance. One month earlier, he had been voluntarily hospitalized for depression. In the following weeks, he had worsening gait instability and urinary incontinence. Diagnostic tests were performed.\")\n",
    "# print out all entities\n",
    "for ent in doc.entities:\n",
    "    print(f'{ent.text}\\t{ent.type}')"
   ]
  },
  {
   "cell_type": "code",
   "execution_count": null,
   "metadata": {},
   "outputs": [],
   "source": []
  }
 ],
 "metadata": {
  "kernelspec": {
   "display_name": "Python 3",
   "language": "python",
   "name": "python3"
  },
  "language_info": {
   "codemirror_mode": {
    "name": "ipython",
    "version": 3
   },
   "file_extension": ".py",
   "mimetype": "text/x-python",
   "name": "python",
   "nbconvert_exporter": "python",
   "pygments_lexer": "ipython3",
   "version": "3.6.13"
  }
 },
 "nbformat": 4,
 "nbformat_minor": 4
}
